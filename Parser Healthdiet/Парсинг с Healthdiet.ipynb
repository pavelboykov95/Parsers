{
 "cells": [
  {
   "cell_type": "code",
   "execution_count": null,
   "metadata": {
    "colab": {
     "base_uri": "https://localhost:8080/"
    },
    "executionInfo": {
     "elapsed": 431,
     "status": "ok",
     "timestamp": 1634131983704,
     "user": {
      "displayName": "Павел Владимирович Бойков",
      "photoUrl": "https://lh3.googleusercontent.com/a/default-user=s64",
      "userId": "10883965885344614223"
     },
     "user_tz": -420
    },
    "id": "sdDgaztH8hAH",
    "outputId": "761d4211-0d49-4277-fa50-e355fc7e7f6a"
   },
   "outputs": [
    {
     "name": "stdout",
     "output_type": "stream",
     "text": [
      "Drive already mounted at /content/drive; to attempt to forcibly remount, call drive.mount(\"/content/drive\", force_remount=True).\n"
     ]
    }
   ],
   "source": [
    "from google.colab import drive\n",
    "drive.mount('/content/drive')"
   ]
  },
  {
   "cell_type": "code",
   "execution_count": null,
   "metadata": {
    "id": "r05pg5uW9Yp1"
   },
   "outputs": [],
   "source": [
    "from bs4 import BeautifulSoup\n",
    "import requests\n",
    "import json\n",
    "import csv\n",
    "import time\n",
    "import random"
   ]
  },
  {
   "cell_type": "code",
   "execution_count": null,
   "metadata": {
    "id": "Nvjq0GFO9b3y"
   },
   "outputs": [],
   "source": [
    "url = \"https://health-diet.ru/table_calorie/?utm_source=leftMenu&utm_medium=table_calorie\""
   ]
  },
  {
   "cell_type": "code",
   "execution_count": null,
   "metadata": {
    "id": "AEpedS3f9b_p"
   },
   "outputs": [],
   "source": [
    "headers = {\n",
    "    \"accept\": \"*/*\",\n",
    "    \"user-agent\": \"Mozilla/5.0 (Windows NT 10.0; Win64; x64) AppleWebKit/537.36 (KHTML, like Gecko) Chrome/94.0.4606.81 Safari/537.36\"\n",
    "}\n",
    "req = requests.get(url, headers=headers)"
   ]
  },
  {
   "cell_type": "code",
   "execution_count": null,
   "metadata": {
    "id": "p-bTrDnG9cCU"
   },
   "outputs": [],
   "source": [
    "src = req.text"
   ]
  },
  {
   "cell_type": "code",
   "execution_count": null,
   "metadata": {
    "id": "V55zK4Um9cIQ"
   },
   "outputs": [],
   "source": [
    "with open(\"/content/drive/MyDrive/Учим Питон/Парсинг/Lesson_2_Заказ_на_фрилансе/index.html\", 'w') as file:\n",
    "    file.write(src)"
   ]
  },
  {
   "cell_type": "code",
   "execution_count": null,
   "metadata": {
    "id": "qiIXqGTX9cNl"
   },
   "outputs": [],
   "source": [
    "with open(\"/content/drive/MyDrive/Учим Питон/Парсинг/Lesson_2_Заказ_на_фрилансе/index.html\") as file:\n",
    "    src = file.read()"
   ]
  },
  {
   "cell_type": "code",
   "execution_count": null,
   "metadata": {
    "id": "NExdgc2Q9cQA"
   },
   "outputs": [],
   "source": [
    "soup = BeautifulSoup(src, 'lxml')"
   ]
  },
  {
   "cell_type": "code",
   "execution_count": null,
   "metadata": {
    "colab": {
     "base_uri": "https://localhost:8080/"
    },
    "executionInfo": {
     "elapsed": 26,
     "status": "ok",
     "timestamp": 1634132039862,
     "user": {
      "displayName": "Павел Владимирович Бойков",
      "photoUrl": "https://lh3.googleusercontent.com/a/default-user=s64",
      "userId": "10883965885344614223"
     },
     "user_tz": -420
    },
    "id": "tSIssKTO9cSe",
    "outputId": "badeb370-98b5-4620-c495-44c447160187"
   },
   "outputs": [
    {
     "name": "stdout",
     "output_type": "stream",
     "text": [
      "{'Баранина и дичь': 'https://health-diet.ru/base_of_food/food_24507/', 'Бобовые': 'https://health-diet.ru/base_of_food/food_24523/', 'Вода и напитки': 'https://health-diet.ru/base_of_food/food_24509/', 'Говядина и телятина': 'https://health-diet.ru/base_of_food/food_24502/', 'Грибы': 'https://health-diet.ru/base_of_food/food_24513/', 'Детское питание': 'https://health-diet.ru/base_of_food/food_24526/', 'Жиры и масла': 'https://health-diet.ru/base_of_food/food_24515/', 'Кондитерские изделия': 'https://health-diet.ru/base_of_food/food_24525/', 'Крупы, мука, макароны': 'https://health-diet.ru/base_of_food/food_24522/', 'Молочные продукты': 'https://health-diet.ru/base_of_food/food_24519/', 'Напитки алкогольные': 'https://health-diet.ru/base_of_food/food_24508/', 'Овощи и зелень': 'https://health-diet.ru/base_of_food/food_24512/', 'Орехи и семена': 'https://health-diet.ru/base_of_food/food_24517/', 'Полуфабрикаты': 'https://health-diet.ru/base_of_meals/meals_21253/', 'Птица': 'https://health-diet.ru/base_of_food/food_24501/', 'Ресторанная еда': 'https://health-diet.ru/base_of_food/food_24527/', 'Рыба и морепродукты': 'https://health-diet.ru/base_of_food/food_24518/', 'Свинина': 'https://health-diet.ru/base_of_food/food_24503/', 'Снеки': 'https://health-diet.ru/base_of_food/food_24528/', 'Соки': 'https://health-diet.ru/base_of_food/food_24511/', 'Сосиски и колбаса': 'https://health-diet.ru/base_of_food/food_24504/', 'Травы, специи и соусы': 'https://health-diet.ru/base_of_food/food_24514/', 'Фаст-фуд': 'https://health-diet.ru/base_of_food/food_24529/', 'Фрукты и ягоды': 'https://health-diet.ru/base_of_food/food_24516/', 'Хлеб и выпечка': 'https://health-diet.ru/base_of_food/food_24524/', 'Яйца и продукты из яиц': 'https://health-diet.ru/base_of_food/food_24520/', 'Варенье и джемы': 'https://health-diet.ru/base_of_meals/meals_21252/', 'Вторые блюда': 'https://health-diet.ru/base_of_meals/meals_21243/', 'Выпечка': 'https://health-diet.ru/base_of_meals/meals_21249/', 'Гарниры': 'https://health-diet.ru/base_of_meals/meals_21244/', 'Десерты': 'https://health-diet.ru/base_of_meals/meals_21245/', 'Заготовки': 'https://health-diet.ru/base_of_meals/meals_21254/', 'Закуски': 'https://health-diet.ru/base_of_meals/meals_21250/', 'Каши': 'https://health-diet.ru/base_of_meals/meals_21247/', 'Напитки': 'https://health-diet.ru/base_of_meals/meals_21248/', 'Первые блюда': 'https://health-diet.ru/base_of_meals/meals_21242/', 'Салаты': 'https://health-diet.ru/base_of_meals/meals_21241/', 'Соусы и заправки': 'https://health-diet.ru/base_of_meals/meals_21251/', 'Campina': 'https://health-diet.ru/base_of_food/food_108930/', 'Coca-Cola': 'https://health-diet.ru/base_of_food/food_103503/', 'Danone': 'https://health-diet.ru/base_of_food/food_120438/', \"KFC Ростик'c\": 'https://health-diet.ru/base_of_food/food_120566/', \"Lay's\": 'https://health-diet.ru/base_of_food/food_111530/', 'Mars': 'https://health-diet.ru/base_of_food/food_109145/', 'Nestle': 'https://health-diet.ru/base_of_food/food_107024/', 'Subway': 'https://health-diet.ru/base_of_food/food_120802/', 'Ашан': 'https://health-diet.ru/base_of_food/food_100481/', 'Бондюэль': 'https://health-diet.ru/base_of_food/food_102398/', 'Крошка-Картошка': 'https://health-diet.ru/base_of_food/food_120310/', 'Макдоналдс (McDonalds)': 'https://health-diet.ru/base_of_food/food_124912/', 'Пятерочка': 'https://health-diet.ru/base_of_food/food_121338/', 'Роллтон': 'https://health-diet.ru/base_of_food/food_114851/', 'Черкизово': 'https://health-diet.ru/base_of_food/food_124180/', 'Яшкино': 'https://health-diet.ru/base_of_food/food_117741/'}\n"
     ]
    }
   ],
   "source": [
    "all_product_hrefs = soup.find_all(class_=\"mzr-tc-group-item-href\")\n",
    "\n",
    "all_categories_dict = {}\n",
    "\n",
    "for item in all_product_hrefs:\n",
    "    item_text = item.text\n",
    "    item_href = \"https://health-diet.ru\" + item.get('href')\n",
    "    \n",
    "    all_categories_dict[item_text] = item_href\n",
    "\n",
    "\n",
    "print(all_categories_dict)"
   ]
  },
  {
   "cell_type": "code",
   "execution_count": null,
   "metadata": {
    "id": "eIIurfqS9cUy"
   },
   "outputs": [],
   "source": [
    "with open(r'/content/drive/MyDrive/Учим Питон/Парсинг/Lesson_2_Заказ_на_фрилансе/all_categories_dict.json', \"w\") as file:\n",
    "    json.dump(all_categories_dict, file, indent=4, ensure_ascii=False)"
   ]
  },
  {
   "cell_type": "code",
   "execution_count": null,
   "metadata": {
    "id": "fssBAXPf9cYi"
   },
   "outputs": [],
   "source": [
    "with open(r'/content/drive/MyDrive/Учим Питон/Парсинг/Lesson_2_Заказ_на_фрилансе/all_categories_dict.json') as file:\n",
    "    all_categories = json.load(file)"
   ]
  },
  {
   "cell_type": "code",
   "execution_count": null,
   "metadata": {
    "colab": {
     "base_uri": "https://localhost:8080/"
    },
    "executionInfo": {
     "elapsed": 250938,
     "status": "ok",
     "timestamp": 1634132301307,
     "user": {
      "displayName": "Павел Владимирович Бойков",
      "photoUrl": "https://lh3.googleusercontent.com/a/default-user=s64",
      "userId": "10883965885344614223"
     },
     "user_tz": -420
    },
    "id": "6EhzIwCe9ceC",
    "outputId": "ef430e68-d520-4065-c8a1-6e7eb071666f"
   },
   "outputs": [
    {
     "name": "stdout",
     "output_type": "stream",
     "text": [
      "Всего итераций: 53\n",
      "# Итерация 1, Баранина_и_дичь записан\n",
      "Осталось итераций: 52\n",
      "# Итерация 2, Бобовые записан\n",
      "Осталось итераций: 51\n",
      "# Итерация 3, Вода_и_напитки записан\n",
      "Осталось итераций: 50\n",
      "# Итерация 4, Говядина_и_телятина записан\n",
      "Осталось итераций: 49\n",
      "# Итерация 5, Грибы записан\n",
      "Осталось итераций: 48\n",
      "# Итерация 6, Детское_питание записан\n",
      "Осталось итераций: 47\n",
      "# Итерация 7, Жиры_и_масла записан\n",
      "Осталось итераций: 46\n",
      "# Итерация 8, Кондитерские_изделия записан\n",
      "Осталось итераций: 45\n",
      "# Итерация 9, Крупы__мука__макароны записан\n",
      "Осталось итераций: 44\n",
      "# Итерация 10, Молочные_продукты записан\n",
      "Осталось итераций: 43\n",
      "# Итерация 11, Напитки_алкогольные записан\n",
      "Осталось итераций: 42\n",
      "# Итерация 12, Овощи_и_зелень записан\n",
      "Осталось итераций: 41\n",
      "# Итерация 13, Орехи_и_семена записан\n",
      "Осталось итераций: 40\n",
      "# Итерация 14, Полуфабрикаты записан\n",
      "Осталось итераций: 39\n",
      "# Итерация 15, Птица записан\n",
      "Осталось итераций: 38\n",
      "# Итерация 16, Ресторанная_еда записан\n",
      "Осталось итераций: 37\n",
      "# Итерация 17, Рыба_и_морепродукты записан\n",
      "Осталось итераций: 36\n",
      "# Итерация 18, Свинина записан\n",
      "Осталось итераций: 35\n",
      "# Итерация 19, Снеки записан\n",
      "Осталось итераций: 34\n",
      "# Итерация 20, Соки записан\n",
      "Осталось итераций: 33\n",
      "# Итерация 21, Сосиски_и_колбаса записан\n",
      "Осталось итераций: 32\n",
      "# Итерация 22, Травы__специи_и_соусы записан\n",
      "Осталось итераций: 31\n",
      "# Итерация 23, Фаст_фуд записан\n",
      "Осталось итераций: 30\n",
      "# Итерация 24, Фрукты_и_ягоды записан\n",
      "Осталось итераций: 29\n",
      "# Итерация 25, Хлеб_и_выпечка записан\n",
      "Осталось итераций: 28\n",
      "# Итерация 26, Яйца_и_продукты_из_яиц записан\n",
      "Осталось итераций: 27\n",
      "# Итерация 27, Варенье_и_джемы записан\n",
      "Осталось итераций: 26\n",
      "# Итерация 28, Вторые_блюда записан\n",
      "Осталось итераций: 25\n",
      "# Итерация 29, Выпечка записан\n",
      "Осталось итераций: 24\n",
      "# Итерация 30, Гарниры записан\n",
      "Осталось итераций: 23\n",
      "# Итерация 31, Десерты записан\n",
      "Осталось итераций: 22\n",
      "# Итерация 32, Заготовки записан\n",
      "Осталось итераций: 21\n",
      "# Итерация 33, Закуски записан\n",
      "Осталось итераций: 20\n",
      "# Итерация 34, Каши записан\n",
      "Осталось итераций: 19\n",
      "# Итерация 35, Напитки записан\n",
      "Осталось итераций: 18\n",
      "# Итерация 36, Первые_блюда записан\n",
      "Осталось итераций: 17\n",
      "# Итерация 37, Салаты записан\n",
      "Осталось итераций: 16\n",
      "# Итерация 38, Соусы_и_заправки записан\n",
      "Осталось итераций: 15\n",
      "# Итерация 39, Campina записан\n",
      "Осталось итераций: 14\n",
      "# Итерация 40, Coca_Cola записан\n",
      "Осталось итераций: 13\n",
      "# Итерация 41, KFC_Ростик_c записан\n",
      "Осталось итераций: 12\n",
      "# Итерация 42, Lay_s записан\n",
      "Осталось итераций: 11\n",
      "# Итерация 43, Mars записан\n",
      "Осталось итераций: 10\n",
      "# Итерация 44, Nestle записан\n",
      "Осталось итераций: 9\n",
      "# Итерация 45, Subway записан\n",
      "Осталось итераций: 8\n",
      "# Итерация 46, Ашан записан\n",
      "Осталось итераций: 7\n",
      "# Итерация 47, Бондюэль записан\n",
      "Осталось итераций: 6\n",
      "# Итерация 48, Крошка_Картошка записан\n",
      "Осталось итераций: 5\n",
      "# Итерация 49, Макдоналдс_(McDonalds) записан\n",
      "Осталось итераций: 4\n",
      "# Итерация 50, Пятерочка записан\n",
      "Осталось итераций: 3\n",
      "# Итерация 51, Роллтон записан\n",
      "Осталось итераций: 2\n",
      "# Итерация 52, Черкизово записан\n",
      "Осталось итераций: 1\n",
      "# Итерация 53, Яшкино записан\n",
      "Работа завершена\n"
     ]
    }
   ],
   "source": [
    "iteration_count = int(len(all_categories)) - 1\n",
    "count = 0\n",
    "print(f\"Всего итераций: {iteration_count}\")\n",
    "\n",
    "for category_name, category_href in all_categories.items():\n",
    "   \n",
    "    rep = [\",\", \" \", \"-\", \"'\"]\n",
    "    for item in rep:\n",
    "        if item in category_name:\n",
    "            category_name = category_name.replace(item, \"_\")\n",
    "    req = requests.get(url=category_href, headers=headers)\n",
    "    src = req.text\n",
    "\n",
    "    with open(f\"/content/drive/MyDrive/Учим Питон/Парсинг/Lesson_2_Заказ_на_фрилансе/data/{count}_{category_name}.html\", \"w\") as file:\n",
    "        file.write(src)\n",
    "    \n",
    "    with open(f\"/content/drive/MyDrive/Учим Питон/Парсинг/Lesson_2_Заказ_на_фрилансе/data/{count}_{category_name}.html\") as file:\n",
    "        src = file.read()\n",
    "    \n",
    "    soup = BeautifulSoup(src, \"lxml\")\n",
    "\n",
    "    #Проверка страницы на наличие таблицы с продуктами\n",
    "    alert_block = soup.find(class_=\"uk-alert-danger\")\n",
    "    if alert_block is not None:\n",
    "        continue\n",
    "    \n",
    "    #  собираем заголовки таблицы\n",
    "    table_head = soup.find(class_=\"mzr-tc-group-table\").find(\"tr\").find_all(\"th\")\n",
    "    product = table_head[0].text\n",
    "    calories = table_head[1].text\n",
    "    proteins = table_head[2].text\n",
    "    fats = table_head[3].text\n",
    "    carbonhydrates = table_head[4].text\n",
    "\n",
    "    with open(f\"/content/drive/MyDrive/Учим Питон/Парсинг/Lesson_2_Заказ_на_фрилансе/data/{count}_{category_name}.csv\", \"w\", encoding=\"utf-8\") as file:\n",
    "        writer = csv.writer(file)\n",
    "        writer.writerow(\n",
    "            (product,\n",
    "             calories,\n",
    "             proteins,\n",
    "             fats,\n",
    "             carbonhydrates\n",
    "              )\n",
    "            )\n",
    "    # Собираем данные продуктов\n",
    "    product_data = soup.find(class_=\"mzr-tc-group-table\").find(\"tbody\").find_all(\"tr\")\n",
    "\n",
    "    product_info = [] \n",
    "    for item in product_data:\n",
    "        product_tds = item.find_all(\"td\")\n",
    "\n",
    "        title = product_tds[0].find(\"a\").text\n",
    "        calories = product_tds[1].text\n",
    "        proteins = product_tds[2].text\n",
    "        fats = product_tds[3].text\n",
    "        carbonhydrates = product_tds[4].text\n",
    "\n",
    "        product_info.append(\n",
    "            {\n",
    "                \"Title\": title,\n",
    "                \"calories\": calories,\n",
    "                \"proteins\": proteins,\n",
    "                \"fats\": fats,\n",
    "                \"carbonhydrates\": carbonhydrates\n",
    "            }\n",
    "        )\n",
    "\n",
    "\n",
    "        with open(f\"/content/drive/MyDrive/Учим Питон/Парсинг/Lesson_2_Заказ_на_фрилансе/data/{count}_{category_name}.csv\", \"a\", encoding=\"utf-8\") as file:\n",
    "            writer = csv.writer(file)\n",
    "            writer.writerow(\n",
    "                (title,\n",
    "                 calories,\n",
    "                 proteins,\n",
    "                 fats,\n",
    "                 carbonhydrates\n",
    "                  )\n",
    "                )\n",
    "            \n",
    "    with open(f'/content/drive/MyDrive/Учим Питон/Парсинг/Lesson_2_Заказ_на_фрилансе/data/{count}_{category_name}.json',\\\n",
    "              \"a\", encoding=\"utf-8\") as file:\n",
    "        json.dump(product_info, file, indent=4, ensure_ascii=False)\n",
    "    with open(r'/content/drive/MyDrive/Учим Питон/Парсинг/Lesson_2_Заказ_на_фрилансе/data/all_product_info.json',\\\n",
    "              \"a\", encoding=\"utf-8\") as file:\n",
    "        json.dump(product_info, file, indent=4, ensure_ascii=False)\n",
    "    \n",
    "    count += 1\n",
    "    print(f\"# Итерация {count}, {category_name} записан\")\n",
    "    iteration_count = iteration_count - 1\n",
    "    if iteration_count == 0:\n",
    "        print(\"Работа завершена\")\n",
    "        break\n",
    "    print(f\"Осталось итераций: {iteration_count}\")\n",
    "    time.sleep(random.randrange(2,4))\n"
   ]
  }
 ],
 "metadata": {
  "colab": {
   "authorship_tag": "ABX9TyPvlbNVd9Eo0Q3VaOgFRa0y",
   "collapsed_sections": [],
   "name": "Урок 2. Парсинг с Healthdiet.ipynb",
   "provenance": []
  },
  "kernelspec": {
   "display_name": "Python 3",
   "language": "python",
   "name": "python3"
  },
  "language_info": {
   "codemirror_mode": {
    "name": "ipython",
    "version": 3
   },
   "file_extension": ".py",
   "mimetype": "text/x-python",
   "name": "python",
   "nbconvert_exporter": "python",
   "pygments_lexer": "ipython3",
   "version": "3.8.8"
  }
 },
 "nbformat": 4,
 "nbformat_minor": 1
}
